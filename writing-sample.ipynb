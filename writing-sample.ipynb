{
 "cells": [
  {
   "cell_type": "markdown",
   "metadata": {},
   "source": [
    "# Make a technical writing sample with Jupyter Notebooks\n",
    "Jupyter Notebooks can give technical writers a versatile way to share their work. Unlike a static site generator, such as Jekyll, you can host a dynamic Jupyter Notebook to demonstrate both your writing and executable code samples. Or, you can print a static version of your content to PDF or HTML. To make a Jupyter Notebook and host it on Binder requires that you can competently work through a very common workflow for software documentation writers, who frequently use Markdown and Git day to day.\n",
    "\n",
    "<img src=\"./images/sample-preview.png\" width=\"600\" alt=\"A preview of a writing sample in a Binder Jupyter notebook.\">\n",
    "\n",
    "This tutorial covers the steps required to: \n",
    "1. Set up git and Github.\n",
    "2. Install Jupyter through the Anaconda distribution package.\n",
    "3. Create a Hello World Notebook for testing. \n",
    "4. Use [mybinder.org](https://mybinder.org/), to create a remote host for your notebooks.\n",
    "\n",
    "After you successfully host your notebook on Binder, you can download a static copy of your writing sample or share a URL that directly links viewers to a copy with executable code.\n",
    "\n",
    "This guide is designed for technical writers who have some exposure to Git and GitHub, but might not be experts yet. There are steps that go into specific detail about how to work with either Git using terminal or Visual Studio Code. \n",
    "\n",
    "## Before you begin\n",
    "\n",
    "You need a few programs installed before you can start working in Jupyter. For this guide you will use\n",
    "* [Git](https://git-scm.com/download/mac)\n",
    "* [Visual Studio Code](https://code.visualstudio.com/download)\n",
    "\n",
    "You also need a [GitHub Account](https://github.com/login) and to [Log In to Github on VS Code](https://code.visualstudio.com/docs/sourcecontrol/github#_getting-started-with-github-pull-requests-and-issues) before you begin.\n"
   ]
  },
  {
   "cell_type": "markdown",
   "metadata": {},
   "source": [
    "## Install and set up Jupyter Notebooks\n",
    "First, you need to install and set up Jupyter Notebooks on your Mac. Jupyter Notebooks are automatically installed with Anaconda, a Python distribution platform that includes Python 3 as well as some other scientific computing software.\n",
    "\n",
    "1. Install and set up Anaconda and Jupyter by downloading the Anaconda binaries distribution from [Anaconda.org](https://www.anaconda.com/products/distribution#macos). Then follow the installer wizard steps.\n",
    "\n",
    "**Important:** By default, this installer modifies your bash profile to activate the base environment of Anaconda3 when your shell starts up. The default installation works for most people but to disable this, choose **Customize** at the **Installation Type** phase, and disable the **Modify PATH** option. \n",
    "\n",
    "2. After the installer finishes, open a terminal by navigating to **Applications**>>**Utilities**>>**Terminal** or with Spotlight. Then, check that Anaconda installed correctly by running `conda –version`, which prints the version you installed in the terminal.\n",
    "\n",
    "3. Check that Jupyter is running correctly by running the command `jupyter –version`. \n",
    "\n",
    "If either Jupyter or Anaconda are not working as expected, common Anaconda installation issues are resolved in the [Troubleshooting Docs](https://docs.anaconda.com/anaconda/user-guide/troubleshooting/) and [Jupyter Docs](https://jupyter-notebook.readthedocs.io/en/stable/troubleshooting.html).\n",
    "\n",
    "**Note:** You can also access Jupyter with the Anaconda navigator, which provides a GUI for you to select which tool you want to use. This can be convenient, however, if you open Jupyter Notebooks from the navigator, it automatically opens the Jupyter server to the directory where Anaconda is installed, which might be a different location from where you want your writing sample. It’s better to launch Jupyter from a terminal window in VS Code instead of the navigator, if you're using VS Code for your writing environment.\n",
    "\n",
    "<img src=\"./images/anaconda-nav.png\" width=\"600\" alt=\"The main navigation view of different scientific programming tools available in Anaconda navigator.\">"
   ]
  },
  {
   "cell_type": "markdown",
   "metadata": {},
   "source": [
    "## Set up a new Git repository on Github\n",
    "Now that you’ve installed Anaconda, you can create your new Github repository for your writing samples.\n",
    "1. Log in to [Github online](https://github.com/login). \n",
    "2. Go to the main [Github page](https://github.com/).\n",
    "3. Select **New** repository.\n",
    "4. Fill in the information for your new repository. \n",
    "5. Make sure your repository is **Public** because Binder will require access to it later.\n",
    "6. Add a License. The MIT Open Source License has some standard coverage that allows others to use your materials as long as they cite you as the creator. Learn more about [Open Source Licenses from Carnegie Mellon University](https://www.cmu.edu/cttec/forms/opensourcelicensegridv1.pdf). \n",
    "7. Select **Create Repository**."
   ]
  },
  {
   "cell_type": "markdown",
   "metadata": {},
   "source": [
    "## Clone a copy of your new repository to your computer.\n",
    "Right now, your new repository only exists on your online GitHub account. You need to download it to your computer to work on a local copy in VS Code. Downloading a copy of your repository to your machine is called making a _Clone_ of your repository. There are many ways to create and manage Github repos, but you can use this one to get started if you're new to Git and Github.\n",
    "\n",
    "1. From your new repository on Github (https://github.com/your-username/repository-name), select the **Code** button. This gives you a copyable URL you will need later.\n",
    "\n",
    "<img src=\"./images/clone-url.png\" width=\"400\" alt=\"A screenshot of the URL to clone\">\n",
    "\n",
    "2. On your desktop, open a new folder in VS Code. Sometimes when you open VS Code, it might prompt you to create a new folder or it might open in an existing folder with other files. \n",
    "3. Open a new folder by going to **File** >> **Open Folder**.\n",
    "4. Create a new folder where you want to create your Jupyter Notebooks. This example shows one called **writing-sample**. \n",
    "5. Clone your Git Repository.\n",
    "    * **VS Code:** Click **Clone Git Repository** and paste the URL you copied from GitHub.\n",
    "    * **Terminal:** Open a terminal in VS Code by selecting **Terminal** >> **New Terminal** then enter the command, `git clone`, and paste the repository URL you copied earlier. The full command looks like the following example:\n",
    "\n",
    "        `git clone https://github.com/lzdanski/test-sample.git`\n",
    "\n",
    "You have now created a new repository and downloaded a local copy. Now you can make changes on your computer to the repo and upload them to your public Github Repository. This means you can share a URL to your writing sample repository and other people can see your technical writing and source code. You can also now use Binder to dynamically host your Jupyter Notebooks from your public repo.\n"
   ]
  },
  {
   "cell_type": "markdown",
   "metadata": {},
   "source": [
    "## Get started with Jupyter\n",
    "Now, you can start working in Jupyter. First, test to make sure it installed correctly.\n",
    "1. In your open terminal window in VS Code, check the Jupyter version\n",
    "` jupyter –version`.\n",
    "\n",
    "2. Serve Jupyter locally by running `jupyter notebook` in your terminal.\n",
    "\n",
    "This starts a local server to display your jupyter Notebooks at http://localhost:8888/, and a browser window opens to display it automatically. You should only see the directory where you downloaded your repository.\n",
    "\n",
    "<img src=\"images/jupyter-sample.png\" alt=\"An example of the Jupyter Notebook web browser UI showing only one available file for the Readme.\" width=\"600\">\n",
    "\n",
    "Completing this step confirmes that both Jupyter and VS Code are working correctly locally. Now you can start moving files back and forth from the local version to your online repository on Github, called the _remote_. "
   ]
  },
  {
   "cell_type": "markdown",
   "metadata": {},
   "source": [
    "## Update your Readme and sync with Github remote.\n",
    "\n",
    "You cloned a copy of your remote repo directly to your computer, now make sure that Github has been configured so that you can push local changes to your remote repo. You create a _branch_, which is effectively a scratch-pad copy version of your repo contents, where you can make changes and experiment without directly editing your main source. When you're done making changes and want to update your _main_ or _master_ version of your repository, you make a _Pull Request_ to \n",
    "\n",
    "1. In terminal, enter `git status`. Git returns the status as \n",
    "`on branch main` or `on branch master` depending on your repository settings.\n",
    "2. Create a new branch to update the Readme. \n",
    "    * From terminal: `git checkout -b update-readme`\n",
    "    * From VS Code UI: **Branch**>>**New Branch**, and name it `update-readme`.\n",
    "3. Open your `readme.md` file and add a sentence or two, then save your changes.\n",
    "\n",
    "After you save your changes, there are visual indicators in the VS Code UI to indicate that you have _uncommitted changes_. This means you have changed files and saved those changes, but haven't added them to your `update-readme` branch as a _commit_ or saved a record of those changes remotely yet. The following picture has yellow arrows pointing to the different locations that VS Code highlights the git status of your files.\n",
    "\n",
    "<img src=\"images/vscode-examples.png\" width=\"600\" alt=\"Screenshot of the VS Code UI after a change was saved but before it was merged.\">\n",
    "\n",
    "You can also see that you have uncommitted changes by typing `git status` in the terminal.\n",
    "\n",
    "5. Commit your changes to `update-readme`.\n",
    "    * **From terminal:** \n",
    "        ```\n",
    "        git add readme.md\n",
    "        git commit -m “Update readme”\n",
    "        git push origin update-readme\n",
    "        ```\n",
    "    * **From VS Code:** Go to the **Source Control** tab. Next, stage your changes by clicking the **+** Symbol in the Source Control pane. Then, enter a message and select the **Commit** button. Finally select **Publish Branch**.\n",
    "\n",
    "        <img src=\"images/source-control.png\" width=\"400\" alt=\"Screenshot of the source control pane and more options menu.\">\n",
    "\n",
    "6. Make a pull request to review your changes.\n",
    "    * **From terminal:** Go to the URL in the terminal output. Enter a message in the field and click **Make pull request**.\n",
    "    * **From Github:** First, push your changes to the remote by selecting **Publish Branch**. Next, go to your repo online. There is a banner that highlights that your branch has been remotely updated. Click **Compare and make pull request**. Enter a message in the field and click **Make pull request**.\n",
    "\n",
    "7. Merge your changes into `main` or `master` by selecting **Merge Pull Request**.\n",
    "    * When you are working in an organization, on a team, or contributing to an open source project, there are more strict review requirements and automated tests that must be completed before you can merge a pull request. Often, the person who created their pull request does not have permission to merge their own changes, everyone must have at least one other person review proposed changes.\n",
    "\n",
    "8. Update your local copy of `main`.\n",
    "    * **From terminal:**\n",
    "        ```\n",
    "        git checkout main\n",
    "        git pull origin main\n",
    "        git branch -d update-readme\n",
    "        ```\n",
    "    * **From VS Code:** Change your branch to `main` in the UI and then click **Sync changes**."
   ]
  },
  {
   "cell_type": "markdown",
   "metadata": {},
   "source": [
    "## Set up the Jupyter Notebook renderer\n",
    "\n",
    "Now you set up the Jupyter Notebook renderer on a new branch.\n",
    "1. Make a new branch.\n",
    "    * From terminal:\n",
    "        `git checkout -b build-sample`\n",
    "    * From VS Code: Open the **More options** menu in the Source Control view by selecting **...**>**Branch**>**Create branch**. Name your new branch `build-sample`\n",
    "2. Create a Jupyter Notebook by selecting **File**>>**New file** and choosing **Jupyter Notebook** from the menu of options.\n",
    "\n",
    "Whether you edit a Jupyter Notebook in VS Code or using the Jupyter Notebook interface, it follows the same process. First you add a cell. Next you define the programming language or kernel the notebook uses to process that cell. Finally, enter your content into the cell.\n",
    "\n",
    "3. Click on the kernel name to choose whether the kernel is code or Markdown. Choose Markdown for the first cell and add the following.\n",
    "    ```\n",
    "    # Test Sample\n",
    "    This is our first notebook.\n",
    "    ```\n",
    "4. Add a second cell, this time make it a Python cell and add a print command.\n",
    "    ```\n",
    "    print(“Hello world!”)\n",
    "    ```\n",
    "5. Save your file as `test-notebook.ipynb`\n",
    "6. Commit changes to your `build-sample` branch and publish it to the remote. **You don’t need to merge your changes into `main`, but you can if you want.**"
   ]
  },
  {
   "cell_type": "markdown",
   "metadata": {},
   "source": [
    "## Build your Notebook binder with mybinder.org\n",
    "\n",
    "After you publish a branch with a Jupyter notebook, now you can create a Binder to host it. MyBinder.org is a non-profit, free service that hosts your notebooks at a publicly accessible URL. \n",
    "1. Open [MyBinder.org](https://mybinder.org/).\n",
    "2. Enter your Github repo URL. It’s the URL you can use to access your repo, https://github.com/lzdanski/test-sample, for example.\n",
    "3. Add the branch name for the branch you published with your notebook, **build-sample**.\n",
    "4. **Launch** the Binder builder.\n",
    "\n",
    "When Binder finishes building your notebooks, it automatically opens a new browser window to access your notebook. You can now copy the URL to share your notebook, or download your notebook in different formats.\n"
   ]
  },
  {
   "cell_type": "markdown",
   "metadata": {},
   "source": [
    "## Binder tips and tricks\n",
    "\n",
    "There are some quirks to using Binder - for example, if you make any changes to your Remote Branch, it breaks the dynamic hosting. You need to relaunch Binder to include any updates.\n",
    "\n",
    "However, you can easily export your notebooks to other formats from Binder by going to **File**>>**Save and export as** to download your Jupyter notebook as Markdown, LaTeX, or PDF. \n",
    "\n",
    "Congratulations! You went through all the steps to create a new Github project in a public Github account and hosted a Jupyter notebook on Binder. Now you're ready to create your own writing sample.\n"
   ]
  }
 ],
 "metadata": {
  "kernelspec": {
   "display_name": "Python 3 (ipykernel)",
   "language": "python",
   "name": "python3"
  },
  "language_info": {
   "codemirror_mode": {
    "name": "ipython",
    "version": 3
   },
   "file_extension": ".py",
   "mimetype": "text/x-python",
   "name": "python",
   "nbconvert_exporter": "python",
   "pygments_lexer": "ipython3",
   "version": "3.9.12"
  },
  "vscode": {
   "interpreter": {
    "hash": "f6485877518b20d3112cc1cbe05249b6e835b4575dd61e37d2d07e7a03be5668"
   }
  }
 },
 "nbformat": 4,
 "nbformat_minor": 2
}
