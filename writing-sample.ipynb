{
 "cells": [
  {
   "cell_type": "markdown",
   "metadata": {},
   "source": [
    "# Make a technical writing sample with Jupyter Notebooks\n",
    "Jupyter Notebooks provide an environment that allows users to read static content and execute code samples. This provides a unique content platform for technical writers to highlight their writing and share executable code samples in the same URL.\n",
    "\n",
    "This tutorial covers the steps required to: \n",
    "1. Set up git and Github.\n",
    "2. Install Jupyter through the Anaconda distribution package.\n",
    "3. Create a Hello World notebook for testing. \n",
    "4. Use Binder.org to create a remote host for your notebooks.\n",
    "\n",
    "After you successfully host your notebook on Binder, you can download a static copy of your writing sample or share a URL that directly links viewers to a copy with executable code.\n"
   ]
  },
  {
   "cell_type": "markdown",
   "metadata": {},
   "source": []
  }
 ],
 "metadata": {
  "language_info": {
   "name": "python"
  },
  "orig_nbformat": 4
 },
 "nbformat": 4,
 "nbformat_minor": 2
}
