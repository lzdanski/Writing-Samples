{
 "cells": [
  {
   "cell_type": "markdown",
   "metadata": {},
   "source": [
    "# Make a technical writing sample with Jupyter Notebooks\n",
    "Jupyter Notebooks can give technical writers a versatile way to share their work. Unlike a static site generator, such as Jekyll, you can host a dynamic Jupyter Notebook demonstrating both your writing and executable code samples or print a static version of your content to PDF or HTML. To make a Jupyter Notebook and host it on Binder requires that you can competently work through a very common workflow for software documentation writers, who frequently use Markdown and Git. \n",
    "\n",
    "This tutorial covers the steps required to: \n",
    "1. Set up git and Github.\n",
    "2. Install Jupyter through the Anaconda distribution package.\n",
    "3. Create a Hello World notebook for testing. \n",
    "4. Use [mybinder.org](https://mybinder.org/), to create a remote host for your notebooks.\n",
    "\n",
    "After you successfully host your notebook on Binder, you can download a static copy of your writing sample or share a URL that directly links viewers to a copy with executable code.\n",
    "\n",
    "This guide is designed for technical writers who have some exposure to Git and GitHub, but might not be experts yet. There are steps that go into specific detail about how to work with either Git using terminal or Visual Studio Code. \n",
    "\n",
    "## Before you begin\n",
    "\n",
    "You need a few programs installed before you can start working in Jupyter. For this guide you will use\n",
    "* [Git](https://git-scm.com/download/mac)\n",
    "* [Visual Studio Code](https://code.visualstudio.com/download)\n",
    "\n",
    "You also need a [GitHub Account](https://github.com/login) and to [Log In to Github on VS Code](https://code.visualstudio.com/docs/sourcecontrol/github#_getting-started-with-github-pull-requests-and-issues) before you begin.\n"
   ]
  },
  {
   "cell_type": "markdown",
   "metadata": {},
   "source": [
    "## Set up Jupyter Notebooks\n",
    "First, you need to install and set up Jupyter notebooks on your Mac. Jupyter Notebooks are automatically installed with in Anaconda, a Python distribution platform that includes Python 3 as well as some other scientific computing software.\n",
    "\n",
    "1. Install and set up Anaconda and Jupyter by downloading the Anaconda binaries distribution from [Anaconda.org](https://www.anaconda.com/products/distribution#macos). Then follow the installer wizard steps.\n",
    "\n",
    "\n",
    "**Important:** By default, this installer modifies your bash profile to activate the base environment of Anaconda3 when your shell starts up.  To disable this, choose **Customize** at the **Installation Type** phase, and disable the **Modify PATH** option. \n",
    "\n",
    "2. After the installer has finished, open a terminal by navigating to **Applications**>>**Utilities**>>**Terminal** or using Spotlight and check that Anaconda installed correctly by running `conda –version`.\n",
    "\n",
    "3. Next check that Jupyter is running correctly. By running the command `jupyter –version`.\n",
    "\n",
    "4. If you have problems, common Anaconda installation issues are resolved in the [Troubleshooting Docs](https://docs.anaconda.com/anaconda/user-guide/troubleshooting/) and [Jupyter Docs](https://jupyter-notebook.readthedocs.io/en/stable/troubleshooting.html).\n",
    "\n",
    "**Note:** You can also open Anaconda navigator, which provides a GUI for you to select which tool you want to use. This can be convenient, however, if you open Jupyter Notebooks from the navigator, it automatically opens the server to the directory where Anaconda is installed, which might be a different location from where you want your writing sample repository. It’s better to launch Jupyter from a terminal window in VS Code instead of the navigator."
   ]
  },
  {
   "cell_type": "markdown",
   "metadata": {},
   "source": []
  }
 ],
 "metadata": {
  "language_info": {
   "name": "python"
  },
  "orig_nbformat": 4
 },
 "nbformat": 4,
 "nbformat_minor": 2
}
