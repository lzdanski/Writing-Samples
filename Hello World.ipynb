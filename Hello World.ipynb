{
 "cells": [
  {
   "cell_type": "markdown",
   "id": "8ae1c047",
   "metadata": {},
   "source": [
    "# Hello world\n",
    "\n",
    "This example notebook lets you test building with Binder or nbconvert with both markdown and code cells."
   ]
  },
  {
   "cell_type": "code",
   "execution_count": 7,
   "id": "7eb49eda",
   "metadata": {},
   "outputs": [
    {
     "name": "stdout",
     "output_type": "stream",
     "text": [
      "Hello world\n"
     ]
    }
   ],
   "source": [
    "a=\"Hello world\"\n",
    "print(a)"
   ]
  },
  {
   "cell_type": "markdown",
   "id": "895ee66c",
   "metadata": {},
   "source": [
    "## Next steps\n",
    "After you test hosting your notebook, continue on to make your Writing Sample"
   ]
  }
 ],
 "metadata": {
  "kernelspec": {
   "display_name": "Python 3.9.12 ('base')",
   "language": "python",
   "name": "python3"
  },
  "language_info": {
   "codemirror_mode": {
    "name": "ipython",
    "version": 3
   },
   "file_extension": ".py",
   "mimetype": "text/x-python",
   "name": "python",
   "nbconvert_exporter": "python",
   "pygments_lexer": "ipython3",
   "version": "3.9.12"
  },
  "vscode": {
   "interpreter": {
    "hash": "f6485877518b20d3112cc1cbe05249b6e835b4575dd61e37d2d07e7a03be5668"
   }
  }
 },
 "nbformat": 4,
 "nbformat_minor": 5
}
